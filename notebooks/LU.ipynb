{
 "cells": [
  {
   "cell_type": "code",
   "execution_count": 1,
   "id": "18f85a3e-d980-4f43-a259-505d4573c9aa",
   "metadata": {},
   "outputs": [],
   "source": [
    "import os\n",
    "import sys\n",
    "module_path = os.path.abspath(os.path.join('..'))\n",
    "if module_path not in sys.path:\n",
    "    sys.path.append(module_path)"
   ]
  },
  {
   "cell_type": "code",
   "execution_count": 2,
   "id": "75eee4a4-543f-43df-9f9d-c88b5e18388a",
   "metadata": {},
   "outputs": [],
   "source": [
    "import numpy as np\n",
    "from modules import lu_decomposition\n",
    "from utils.echelon_tools import get_lower_triangular, get_upper_triangular"
   ]
  },
  {
   "cell_type": "markdown",
   "id": "00b53323-dd7b-4cb0-be95-07cade20640d",
   "metadata": {},
   "source": [
    "### LU Decomposition without pivoting"
   ]
  },
  {
   "cell_type": "code",
   "execution_count": 3,
   "id": "7a415108-1a00-4a82-b154-60e6fc2563dc",
   "metadata": {},
   "outputs": [],
   "source": [
    "matrix = np.array([[2, 3, 4], [5, 2, 1], [4, 7, 2]])\n",
    "decompose_matrix, p = lu_decomposition(matrix, 0)\n",
    "low = get_lower_triangular(decompose_matrix)\n",
    "up = get_upper_triangular(decompose_matrix)"
   ]
  },
  {
   "cell_type": "code",
   "execution_count": 4,
   "id": "9832d44a-e124-47fc-b940-b7e674f819cc",
   "metadata": {},
   "outputs": [
    {
     "data": {
      "text/plain": [
       "array([[ 1.        ,  0.        ,  0.        ],\n",
       "       [ 2.5       ,  1.        ,  0.        ],\n",
       "       [ 2.        , -0.18181818,  1.        ]])"
      ]
     },
     "execution_count": 4,
     "metadata": {},
     "output_type": "execute_result"
    }
   ],
   "source": [
    "low"
   ]
  },
  {
   "cell_type": "code",
   "execution_count": 5,
   "id": "8c2c890a-e77f-48c8-af7d-dddb638556e9",
   "metadata": {},
   "outputs": [
    {
     "data": {
      "text/plain": [
       "array([[ 2.        ,  3.        ,  4.        ],\n",
       "       [ 0.        , -5.5       , -9.        ],\n",
       "       [ 0.        ,  0.        , -7.63636364]])"
      ]
     },
     "execution_count": 5,
     "metadata": {},
     "output_type": "execute_result"
    }
   ],
   "source": [
    "up"
   ]
  },
  {
   "cell_type": "code",
   "execution_count": 6,
   "id": "7a29cd5d-d782-4eeb-8fb4-7805617dba5a",
   "metadata": {},
   "outputs": [
    {
     "data": {
      "text/plain": [
       "array([[2., 3., 4.],\n",
       "       [5., 2., 1.],\n",
       "       [4., 7., 2.]])"
      ]
     },
     "execution_count": 6,
     "metadata": {},
     "output_type": "execute_result"
    }
   ],
   "source": [
    "low @ up"
   ]
  },
  {
   "cell_type": "code",
   "execution_count": 7,
   "id": "0e779c27-3748-48f4-a4e4-26b3c2bcc830",
   "metadata": {},
   "outputs": [
    {
     "data": {
      "text/plain": [
       "array([[1, 0, 0],\n",
       "       [0, 1, 0],\n",
       "       [0, 0, 1]], dtype=int8)"
      ]
     },
     "execution_count": 7,
     "metadata": {},
     "output_type": "execute_result"
    }
   ],
   "source": [
    "p"
   ]
  },
  {
   "cell_type": "code",
   "execution_count": 8,
   "id": "841fb589-f707-470b-be60-2fdab4baf3f1",
   "metadata": {},
   "outputs": [
    {
     "ename": "Exception",
     "evalue": "The diagonal element [1, 1] is Zero",
     "output_type": "error",
     "traceback": [
      "\u001b[0;31m---------------------------------------------------------------------------\u001b[0m",
      "\u001b[0;31mException\u001b[0m                                 Traceback (most recent call last)",
      "Cell \u001b[0;32mIn[8], line 2\u001b[0m\n\u001b[1;32m      1\u001b[0m matrix \u001b[38;5;241m=\u001b[39m np\u001b[38;5;241m.\u001b[39marray([[\u001b[38;5;241m2\u001b[39m, \u001b[38;5;241m3\u001b[39m, \u001b[38;5;241m4\u001b[39m], [\u001b[38;5;241m4\u001b[39m, \u001b[38;5;241m6\u001b[39m, \u001b[38;5;241m1\u001b[39m], [\u001b[38;5;241m4\u001b[39m, \u001b[38;5;241m7\u001b[39m, \u001b[38;5;241m2\u001b[39m]])\n\u001b[0;32m----> 2\u001b[0m decompose_matrix, p \u001b[38;5;241m=\u001b[39m \u001b[43mlu_decomposition\u001b[49m\u001b[43m(\u001b[49m\u001b[43mmatrix\u001b[49m\u001b[43m,\u001b[49m\u001b[43m \u001b[49m\u001b[38;5;241;43m0\u001b[39;49m\u001b[43m)\u001b[49m\n\u001b[1;32m      3\u001b[0m low \u001b[38;5;241m=\u001b[39m get_lower_triangular(decompose_matrix)\n\u001b[1;32m      4\u001b[0m up \u001b[38;5;241m=\u001b[39m get_upper_triangular(decompose_matrix)\n",
      "File \u001b[0;32m~/matrix-discovery/modules/lu_decomposition.py:54\u001b[0m, in \u001b[0;36mlu_decomposition\u001b[0;34m(matrix, pivoting)\u001b[0m\n\u001b[1;32m     52\u001b[0m     \u001b[38;5;28;01mraise\u001b[39;00m \u001b[38;5;167;01mException\u001b[39;00m(\u001b[38;5;124m'\u001b[39m\u001b[38;5;124mthere is no callable function for the desired pivoting\u001b[39m\u001b[38;5;124m'\u001b[39m)\n\u001b[1;32m     53\u001b[0m reformatted_matrix \u001b[38;5;241m=\u001b[39m matrix\u001b[38;5;241m.\u001b[39mastype(np\u001b[38;5;241m.\u001b[39mfloat64)\n\u001b[0;32m---> 54\u001b[0m pivots \u001b[38;5;241m=\u001b[39m \u001b[43mpurposed_function\u001b[49m\u001b[43m(\u001b[49m\u001b[43mreformatted_matrix\u001b[49m\u001b[43m)\u001b[49m\n\u001b[1;32m     55\u001b[0m \u001b[38;5;28;01mreturn\u001b[39;00m reformatted_matrix, pivots\n",
      "File \u001b[0;32m~/matrix-discovery/modules/lu_decomposition.py:9\u001b[0m, in \u001b[0;36m__lu_decomposition_without_pivoting\u001b[0;34m(matrix)\u001b[0m\n\u001b[1;32m      7\u001b[0m \u001b[38;5;28;01mfor\u001b[39;00m base_index \u001b[38;5;129;01min\u001b[39;00m \u001b[38;5;28mrange\u001b[39m(cols_count \u001b[38;5;241m-\u001b[39m \u001b[38;5;241m1\u001b[39m):\n\u001b[1;32m      8\u001b[0m     \u001b[38;5;28;01mif\u001b[39;00m matrix[base_index, base_index] \u001b[38;5;241m==\u001b[39m \u001b[38;5;241m0\u001b[39m:\n\u001b[0;32m----> 9\u001b[0m         \u001b[38;5;28;01mraise\u001b[39;00m \u001b[38;5;167;01mException\u001b[39;00m(\u001b[38;5;124mf\u001b[39m\u001b[38;5;124m'\u001b[39m\u001b[38;5;124mThe diagonal element [\u001b[39m\u001b[38;5;132;01m{\u001b[39;00mbase_index\u001b[38;5;132;01m}\u001b[39;00m\u001b[38;5;124m, \u001b[39m\u001b[38;5;132;01m{\u001b[39;00mbase_index\u001b[38;5;132;01m}\u001b[39;00m\u001b[38;5;124m] is Zero\u001b[39m\u001b[38;5;124m'\u001b[39m)\n\u001b[1;32m     10\u001b[0m     column_reduction(matrix, base_index)\n\u001b[1;32m     11\u001b[0m \u001b[38;5;28;01mreturn\u001b[39;00m np\u001b[38;5;241m.\u001b[39midentity(cols_count, dtype\u001b[38;5;241m=\u001b[39mnp\u001b[38;5;241m.\u001b[39mint8)\n",
      "\u001b[0;31mException\u001b[0m: The diagonal element [1, 1] is Zero"
     ]
    }
   ],
   "source": [
    "matrix = np.array([[2, 3, 4], [4, 6, 1], [4, 7, 2]])\n",
    "decompose_matrix, p = lu_decomposition(matrix, 0)\n",
    "low = get_lower_triangular(decompose_matrix)\n",
    "up = get_upper_triangular(decompose_matrix)"
   ]
  },
  {
   "cell_type": "markdown",
   "id": "78b106be-6e71-451d-bf83-0c460bddc40c",
   "metadata": {},
   "source": [
    "### LU Decomposition with essential pivoting"
   ]
  },
  {
   "cell_type": "code",
   "execution_count": 9,
   "id": "9526846b-ab19-455b-b85e-f1758447ddd7",
   "metadata": {},
   "outputs": [],
   "source": [
    "matrix = np.array([[2, 3, 4], [4, 6, 1], [4, 7, 2]])\n",
    "decompose_matrix, p = lu_decomposition(matrix, 1)\n",
    "low = get_lower_triangular(decompose_matrix)\n",
    "up = get_upper_triangular(decompose_matrix)"
   ]
  },
  {
   "cell_type": "code",
   "execution_count": 10,
   "id": "c0d13462-19a9-49ba-87e3-f9bbee7bf7bb",
   "metadata": {},
   "outputs": [
    {
     "data": {
      "text/plain": [
       "array([[1., 0., 0.],\n",
       "       [2., 1., 0.],\n",
       "       [2., 0., 1.]])"
      ]
     },
     "execution_count": 10,
     "metadata": {},
     "output_type": "execute_result"
    }
   ],
   "source": [
    "low"
   ]
  },
  {
   "cell_type": "code",
   "execution_count": 11,
   "id": "5417c28f-a645-4cec-91e9-eae3a18f7892",
   "metadata": {},
   "outputs": [
    {
     "data": {
      "text/plain": [
       "array([[ 2.,  3.,  4.],\n",
       "       [ 0.,  1., -6.],\n",
       "       [ 0.,  0., -7.]])"
      ]
     },
     "execution_count": 11,
     "metadata": {},
     "output_type": "execute_result"
    }
   ],
   "source": [
    "up"
   ]
  },
  {
   "cell_type": "code",
   "execution_count": 12,
   "id": "12102c98-5f06-431e-9bde-8b4c111a650c",
   "metadata": {},
   "outputs": [
    {
     "data": {
      "text/plain": [
       "array([[2., 3., 4.],\n",
       "       [4., 7., 2.],\n",
       "       [4., 6., 1.]])"
      ]
     },
     "execution_count": 12,
     "metadata": {},
     "output_type": "execute_result"
    }
   ],
   "source": [
    "low @ up"
   ]
  },
  {
   "cell_type": "code",
   "execution_count": 13,
   "id": "3b0c43bd-eb11-474d-be9a-f3aca5da1aed",
   "metadata": {},
   "outputs": [
    {
     "data": {
      "text/plain": [
       "array([[1, 0, 0],\n",
       "       [0, 0, 1],\n",
       "       [0, 1, 0]], dtype=int8)"
      ]
     },
     "execution_count": 13,
     "metadata": {},
     "output_type": "execute_result"
    }
   ],
   "source": [
    "p"
   ]
  },
  {
   "cell_type": "markdown",
   "id": "46c9e90d-8538-4a1c-8517-b50173ab805a",
   "metadata": {},
   "source": [
    "### LU Decomposition with partial pivoting"
   ]
  },
  {
   "cell_type": "code",
   "execution_count": 14,
   "id": "e14c7bbd-685c-46d0-8c61-004aa1e96171",
   "metadata": {},
   "outputs": [],
   "source": [
    "matrix = np.array([[2, 3, 4], [4, 6, 1], [4, 7, 2]])\n",
    "decompose_matrix, p = lu_decomposition(matrix, 2)\n",
    "low = get_lower_triangular(decompose_matrix)\n",
    "up = get_upper_triangular(decompose_matrix)"
   ]
  },
  {
   "cell_type": "code",
   "execution_count": 15,
   "id": "01b6dec2-8df0-49b7-b637-53c7b3153361",
   "metadata": {},
   "outputs": [
    {
     "data": {
      "text/plain": [
       "array([[1. , 0. , 0. ],\n",
       "       [1. , 1. , 0. ],\n",
       "       [0.5, 0. , 1. ]])"
      ]
     },
     "execution_count": 15,
     "metadata": {},
     "output_type": "execute_result"
    }
   ],
   "source": [
    "low"
   ]
  },
  {
   "cell_type": "code",
   "execution_count": 16,
   "id": "e1718516-ec0b-4334-9e43-f7239b35d51f",
   "metadata": {},
   "outputs": [
    {
     "data": {
      "text/plain": [
       "array([[4. , 6. , 1. ],\n",
       "       [0. , 1. , 1. ],\n",
       "       [0. , 0. , 3.5]])"
      ]
     },
     "execution_count": 16,
     "metadata": {},
     "output_type": "execute_result"
    }
   ],
   "source": [
    "up"
   ]
  },
  {
   "cell_type": "code",
   "execution_count": 17,
   "id": "df0f6dc8-9016-45e7-9ccf-9f9af2d41590",
   "metadata": {},
   "outputs": [
    {
     "data": {
      "text/plain": [
       "array([[4., 6., 1.],\n",
       "       [4., 7., 2.],\n",
       "       [2., 3., 4.]])"
      ]
     },
     "execution_count": 17,
     "metadata": {},
     "output_type": "execute_result"
    }
   ],
   "source": [
    "low @ up"
   ]
  },
  {
   "cell_type": "code",
   "execution_count": 18,
   "id": "42bbcdf0-5889-422f-8450-ad2e45ee2386",
   "metadata": {},
   "outputs": [
    {
     "data": {
      "text/plain": [
       "array([[0, 1, 0],\n",
       "       [0, 0, 1],\n",
       "       [1, 0, 0]], dtype=int8)"
      ]
     },
     "execution_count": 18,
     "metadata": {},
     "output_type": "execute_result"
    }
   ],
   "source": [
    "p"
   ]
  }
 ],
 "metadata": {
  "kernelspec": {
   "display_name": "Python 3 (ipykernel)",
   "language": "python",
   "name": "python3"
  },
  "language_info": {
   "codemirror_mode": {
    "name": "ipython",
    "version": 3
   },
   "file_extension": ".py",
   "mimetype": "text/x-python",
   "name": "python",
   "nbconvert_exporter": "python",
   "pygments_lexer": "ipython3",
   "version": "3.11.5"
  }
 },
 "nbformat": 4,
 "nbformat_minor": 5
}
