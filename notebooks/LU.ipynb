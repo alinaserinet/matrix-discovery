{
 "cells": [
  {
   "cell_type": "code",
   "execution_count": 1,
   "id": "18f85a3e-d980-4f43-a259-505d4573c9aa",
   "metadata": {},
   "outputs": [],
   "source": [
    "import os\n",
    "import sys\n",
    "module_path = os.path.abspath(os.path.join('..'))\n",
    "if module_path not in sys.path:\n",
    "    sys.path.append(module_path)"
   ]
  },
  {
   "cell_type": "code",
   "execution_count": 2,
   "id": "75eee4a4-543f-43df-9f9d-c88b5e18388a",
   "metadata": {},
   "outputs": [],
   "source": [
    "import numpy as np\n",
    "from modules import lu_decomposition\n",
    "from utils.echelon_tools import get_lower_triangular, get_upper_triangular"
   ]
  },
  {
   "cell_type": "markdown",
   "id": "00b53323-dd7b-4cb0-be95-07cade20640d",
   "metadata": {
    "jp-MarkdownHeadingCollapsed": true
   },
   "source": [
    "### LU Decomposition without pivoting"
   ]
  },
  {
   "cell_type": "code",
   "execution_count": 3,
   "id": "7a415108-1a00-4a82-b154-60e6fc2563dc",
   "metadata": {},
   "outputs": [],
   "source": [
    "matrix = np.array([[2, 3, 4], [5, 2, 1], [4, 7, 2]])\n",
    "decompose_matrix, p = lu_decomposition(matrix, 0)\n",
    "low = get_lower_triangular(decompose_matrix)\n",
    "up = get_upper_triangular(decompose_matrix)"
   ]
  },
  {
   "cell_type": "code",
   "execution_count": 4,
   "id": "9832d44a-e124-47fc-b940-b7e674f819cc",
   "metadata": {},
   "outputs": [
    {
     "data": {
      "text/plain": [
       "array([[ 1.        ,  0.        ,  0.        ],\n",
       "       [ 2.5       ,  1.        ,  0.        ],\n",
       "       [ 2.        , -0.18181818,  1.        ]])"
      ]
     },
     "execution_count": 4,
     "metadata": {},
     "output_type": "execute_result"
    }
   ],
   "source": [
    "low"
   ]
  },
  {
   "cell_type": "code",
   "execution_count": 5,
   "id": "8c2c890a-e77f-48c8-af7d-dddb638556e9",
   "metadata": {},
   "outputs": [
    {
     "data": {
      "text/plain": [
       "array([[ 2.        ,  3.        ,  4.        ],\n",
       "       [ 0.        , -5.5       , -9.        ],\n",
       "       [ 0.        ,  0.        , -7.63636364]])"
      ]
     },
     "execution_count": 5,
     "metadata": {},
     "output_type": "execute_result"
    }
   ],
   "source": [
    "up"
   ]
  },
  {
   "cell_type": "code",
   "execution_count": 6,
   "id": "7a29cd5d-d782-4eeb-8fb4-7805617dba5a",
   "metadata": {},
   "outputs": [
    {
     "data": {
      "text/plain": [
       "array([[2., 3., 4.],\n",
       "       [5., 2., 1.],\n",
       "       [4., 7., 2.]])"
      ]
     },
     "execution_count": 6,
     "metadata": {},
     "output_type": "execute_result"
    }
   ],
   "source": [
    "low @ up"
   ]
  },
  {
   "cell_type": "code",
   "execution_count": 7,
   "id": "0e779c27-3748-48f4-a4e4-26b3c2bcc830",
   "metadata": {},
   "outputs": [
    {
     "data": {
      "text/plain": [
       "array([[1, 0, 0],\n",
       "       [0, 1, 0],\n",
       "       [0, 0, 1]], dtype=int8)"
      ]
     },
     "execution_count": 7,
     "metadata": {},
     "output_type": "execute_result"
    }
   ],
   "source": [
    "p"
   ]
  },
  {
   "cell_type": "code",
   "execution_count": 8,
   "id": "841fb589-f707-470b-be60-2fdab4baf3f1",
   "metadata": {},
   "outputs": [
    {
     "ename": "Exception",
     "evalue": "The diagonal element [1, 1] is Zero",
     "output_type": "error",
     "traceback": [
      "\u001b[0;31m---------------------------------------------------------------------------\u001b[0m",
      "\u001b[0;31mException\u001b[0m                                 Traceback (most recent call last)",
      "Cell \u001b[0;32mIn[8], line 2\u001b[0m\n\u001b[1;32m      1\u001b[0m matrix \u001b[38;5;241m=\u001b[39m np\u001b[38;5;241m.\u001b[39marray([[\u001b[38;5;241m2\u001b[39m, \u001b[38;5;241m3\u001b[39m, \u001b[38;5;241m4\u001b[39m], [\u001b[38;5;241m4\u001b[39m, \u001b[38;5;241m6\u001b[39m, \u001b[38;5;241m1\u001b[39m], [\u001b[38;5;241m4\u001b[39m, \u001b[38;5;241m7\u001b[39m, \u001b[38;5;241m2\u001b[39m]])\n\u001b[0;32m----> 2\u001b[0m decompose_matrix, p \u001b[38;5;241m=\u001b[39m \u001b[43mlu_decomposition\u001b[49m\u001b[43m(\u001b[49m\u001b[43mmatrix\u001b[49m\u001b[43m,\u001b[49m\u001b[43m \u001b[49m\u001b[38;5;241;43m0\u001b[39;49m\u001b[43m)\u001b[49m\n\u001b[1;32m      3\u001b[0m low \u001b[38;5;241m=\u001b[39m get_lower_triangular(decompose_matrix)\n\u001b[1;32m      4\u001b[0m up \u001b[38;5;241m=\u001b[39m get_upper_triangular(decompose_matrix)\n",
      "File \u001b[0;32m~/matrix-discovery/modules/lu_decomposition.py:54\u001b[0m, in \u001b[0;36mlu_decomposition\u001b[0;34m(matrix, pivoting)\u001b[0m\n\u001b[1;32m     52\u001b[0m     \u001b[38;5;28;01mraise\u001b[39;00m \u001b[38;5;167;01mException\u001b[39;00m(\u001b[38;5;124m'\u001b[39m\u001b[38;5;124mthere is no callable function for the desired pivoting\u001b[39m\u001b[38;5;124m'\u001b[39m)\n\u001b[1;32m     53\u001b[0m reformatted_matrix \u001b[38;5;241m=\u001b[39m matrix\u001b[38;5;241m.\u001b[39mastype(np\u001b[38;5;241m.\u001b[39mfloat64)\n\u001b[0;32m---> 54\u001b[0m pivots \u001b[38;5;241m=\u001b[39m \u001b[43mpurposed_function\u001b[49m\u001b[43m(\u001b[49m\u001b[43mreformatted_matrix\u001b[49m\u001b[43m)\u001b[49m\n\u001b[1;32m     55\u001b[0m \u001b[38;5;28;01mreturn\u001b[39;00m reformatted_matrix, pivots\n",
      "File \u001b[0;32m~/matrix-discovery/modules/lu_decomposition.py:9\u001b[0m, in \u001b[0;36m__lu_decomposition_without_pivoting\u001b[0;34m(matrix)\u001b[0m\n\u001b[1;32m      7\u001b[0m \u001b[38;5;28;01mfor\u001b[39;00m base_index \u001b[38;5;129;01min\u001b[39;00m \u001b[38;5;28mrange\u001b[39m(cols_count \u001b[38;5;241m-\u001b[39m \u001b[38;5;241m1\u001b[39m):\n\u001b[1;32m      8\u001b[0m     \u001b[38;5;28;01mif\u001b[39;00m matrix[base_index, base_index] \u001b[38;5;241m==\u001b[39m \u001b[38;5;241m0\u001b[39m:\n\u001b[0;32m----> 9\u001b[0m         \u001b[38;5;28;01mraise\u001b[39;00m \u001b[38;5;167;01mException\u001b[39;00m(\u001b[38;5;124mf\u001b[39m\u001b[38;5;124m'\u001b[39m\u001b[38;5;124mThe diagonal element [\u001b[39m\u001b[38;5;132;01m{\u001b[39;00mbase_index\u001b[38;5;132;01m}\u001b[39;00m\u001b[38;5;124m, \u001b[39m\u001b[38;5;132;01m{\u001b[39;00mbase_index\u001b[38;5;132;01m}\u001b[39;00m\u001b[38;5;124m] is Zero\u001b[39m\u001b[38;5;124m'\u001b[39m)\n\u001b[1;32m     10\u001b[0m     column_reduction(matrix, base_index)\n\u001b[1;32m     11\u001b[0m \u001b[38;5;28;01mreturn\u001b[39;00m np\u001b[38;5;241m.\u001b[39midentity(cols_count, dtype\u001b[38;5;241m=\u001b[39mnp\u001b[38;5;241m.\u001b[39mint8)\n",
      "\u001b[0;31mException\u001b[0m: The diagonal element [1, 1] is Zero"
     ]
    }
   ],
   "source": [
    "matrix = np.array([[2, 3, 4], [4, 6, 1], [4, 7, 2]])\n",
    "decompose_matrix, p = lu_decomposition(matrix, 0)\n",
    "low = get_lower_triangular(decompose_matrix)\n",
    "up = get_upper_triangular(decompose_matrix)"
   ]
  },
  {
   "cell_type": "markdown",
   "id": "78b106be-6e71-451d-bf83-0c460bddc40c",
   "metadata": {},
   "source": [
    "### LU Decomposition with essential pivoting"
   ]
  },
  {
   "cell_type": "code",
   "execution_count": 9,
   "id": "9526846b-ab19-455b-b85e-f1758447ddd7",
   "metadata": {},
   "outputs": [],
   "source": [
    "matrix = np.array([[2, 3, 4], [4, 6, 1], [4, 7, 2]])\n",
    "decompose_matrix, p = lu_decomposition(matrix, 1)\n",
    "low = get_lower_triangular(decompose_matrix)\n",
    "up = get_upper_triangular(decompose_matrix)"
   ]
  },
  {
   "cell_type": "code",
   "execution_count": 10,
   "id": "c0d13462-19a9-49ba-87e3-f9bbee7bf7bb",
   "metadata": {},
   "outputs": [
    {
     "data": {
      "text/plain": [
       "array([[1., 0., 0.],\n",
       "       [2., 1., 0.],\n",
       "       [2., 0., 1.]])"
      ]
     },
     "execution_count": 10,
     "metadata": {},
     "output_type": "execute_result"
    }
   ],
   "source": [
    "low"
   ]
  },
  {
   "cell_type": "code",
   "execution_count": 11,
   "id": "5417c28f-a645-4cec-91e9-eae3a18f7892",
   "metadata": {},
   "outputs": [
    {
     "data": {
      "text/plain": [
       "array([[ 2.,  3.,  4.],\n",
       "       [ 0.,  1., -6.],\n",
       "       [ 0.,  0., -7.]])"
      ]
     },
     "execution_count": 11,
     "metadata": {},
     "output_type": "execute_result"
    }
   ],
   "source": [
    "up"
   ]
  },
  {
   "cell_type": "code",
   "execution_count": 12,
   "id": "12102c98-5f06-431e-9bde-8b4c111a650c",
   "metadata": {},
   "outputs": [
    {
     "data": {
      "text/plain": [
       "array([[2., 3., 4.],\n",
       "       [4., 7., 2.],\n",
       "       [4., 6., 1.]])"
      ]
     },
     "execution_count": 12,
     "metadata": {},
     "output_type": "execute_result"
    }
   ],
   "source": [
    "low @ up"
   ]
  },
  {
   "cell_type": "code",
   "execution_count": 13,
   "id": "3b0c43bd-eb11-474d-be9a-f3aca5da1aed",
   "metadata": {},
   "outputs": [
    {
     "data": {
      "text/plain": [
       "array([[1, 0, 0],\n",
       "       [0, 0, 1],\n",
       "       [0, 1, 0]], dtype=int8)"
      ]
     },
     "execution_count": 13,
     "metadata": {},
     "output_type": "execute_result"
    }
   ],
   "source": [
    "p"
   ]
  },
  {
   "cell_type": "markdown",
   "id": "46c9e90d-8538-4a1c-8517-b50173ab805a",
   "metadata": {},
   "source": [
    "### LU Decomposition with partial pivoting"
   ]
  },
  {
   "cell_type": "code",
   "execution_count": 14,
   "id": "e14c7bbd-685c-46d0-8c61-004aa1e96171",
   "metadata": {},
   "outputs": [],
   "source": [
    "matrix = np.array([[2, 3, 4], [4, 6, 1], [4, 7, 2]])\n",
    "decompose_matrix, p = lu_decomposition(matrix, 2)\n",
    "low = get_lower_triangular(decompose_matrix)\n",
    "up = get_upper_triangular(decompose_matrix)"
   ]
  },
  {
   "cell_type": "code",
   "execution_count": 15,
   "id": "01b6dec2-8df0-49b7-b637-53c7b3153361",
   "metadata": {},
   "outputs": [
    {
     "data": {
      "text/plain": [
       "array([[1. , 0. , 0. ],\n",
       "       [1. , 1. , 0. ],\n",
       "       [0.5, 0. , 1. ]])"
      ]
     },
     "execution_count": 15,
     "metadata": {},
     "output_type": "execute_result"
    }
   ],
   "source": [
    "low"
   ]
  },
  {
   "cell_type": "code",
   "execution_count": 16,
   "id": "e1718516-ec0b-4334-9e43-f7239b35d51f",
   "metadata": {},
   "outputs": [
    {
     "data": {
      "text/plain": [
       "array([[4. , 6. , 1. ],\n",
       "       [0. , 1. , 1. ],\n",
       "       [0. , 0. , 3.5]])"
      ]
     },
     "execution_count": 16,
     "metadata": {},
     "output_type": "execute_result"
    }
   ],
   "source": [
    "up"
   ]
  },
  {
   "cell_type": "code",
   "execution_count": 17,
   "id": "df0f6dc8-9016-45e7-9ccf-9f9af2d41590",
   "metadata": {},
   "outputs": [
    {
     "data": {
      "text/plain": [
       "array([[4., 6., 1.],\n",
       "       [4., 7., 2.],\n",
       "       [2., 3., 4.]])"
      ]
     },
     "execution_count": 17,
     "metadata": {},
     "output_type": "execute_result"
    }
   ],
   "source": [
    "low @ up"
   ]
  },
  {
   "cell_type": "code",
   "execution_count": 18,
   "id": "42bbcdf0-5889-422f-8450-ad2e45ee2386",
   "metadata": {},
   "outputs": [
    {
     "data": {
      "text/plain": [
       "array([[0, 1, 0],\n",
       "       [0, 0, 1],\n",
       "       [1, 0, 0]], dtype=int8)"
      ]
     },
     "execution_count": 18,
     "metadata": {},
     "output_type": "execute_result"
    }
   ],
   "source": [
    "p"
   ]
  },
  {
   "cell_type": "markdown",
   "id": "4355e31f-6303-4f47-badf-4209a592064a",
   "metadata": {},
   "source": [
    "### Define matrix 100 * 100"
   ]
  },
  {
   "cell_type": "code",
   "execution_count": 38,
   "id": "6bdea86f-283f-4af8-bf07-ed2d864ea5f7",
   "metadata": {},
   "outputs": [],
   "source": [
    "matrix = np.random.rand(100, 100) * 10 + 2"
   ]
  },
  {
   "cell_type": "code",
   "execution_count": 39,
   "id": "948eeb3b-7594-436f-ba6d-5ea403c74913",
   "metadata": {},
   "outputs": [
    {
     "data": {
      "text/plain": [
       "array([[ 2.80507857, 10.40695468,  6.52745673, ..., 10.13604254,\n",
       "        10.52990764,  5.76814522],\n",
       "       [ 7.54085254,  2.22996054,  5.82352876, ...,  9.37186552,\n",
       "         2.33850968, 10.07053298],\n",
       "       [ 3.90608068, 10.0113619 ,  7.93974498, ...,  6.70856798,\n",
       "         4.29663565,  4.82119308],\n",
       "       ...,\n",
       "       [ 3.84562308,  2.84051627, 10.36580125, ...,  8.49710473,\n",
       "         4.16426617,  8.73086534],\n",
       "       [ 2.30160903,  7.77853846, 10.46647965, ...,  7.10681721,\n",
       "         2.5363597 ,  4.42050078],\n",
       "       [ 4.41425262,  2.72713042,  5.33775854, ...,  3.80770059,\n",
       "         3.5322853 ,  6.76135808]])"
      ]
     },
     "execution_count": 39,
     "metadata": {},
     "output_type": "execute_result"
    }
   ],
   "source": [
    "matrix"
   ]
  },
  {
   "cell_type": "code",
   "execution_count": 40,
   "id": "5a1d3565-cbd4-46f2-8b59-9e8805cc601e",
   "metadata": {},
   "outputs": [
    {
     "data": {
      "text/plain": [
       "100"
      ]
     },
     "execution_count": 40,
     "metadata": {},
     "output_type": "execute_result"
    }
   ],
   "source": [
    "np.linalg.matrix_rank(matrix)"
   ]
  },
  {
   "cell_type": "markdown",
   "id": "5d8e27e5-38a8-42a0-91f6-042d58104ed8",
   "metadata": {},
   "source": [
    "### LU Decomposition with partial pivoting on 100 * 100 matrix"
   ]
  },
  {
   "cell_type": "code",
   "execution_count": 41,
   "id": "f218b13f-99a6-49b0-a626-eca1dba3c689",
   "metadata": {},
   "outputs": [],
   "source": [
    "decompose_matrix_2, pivots_2 = lu_decomposition(matrix, 2)\n",
    "low_2 = get_lower_triangular(decompose_matrix_2)\n",
    "up_2 = get_upper_triangular(decompose_matrix_2)"
   ]
  },
  {
   "cell_type": "code",
   "execution_count": 42,
   "id": "351c0b32-b94e-4965-ad50-0c3e0271e1ea",
   "metadata": {},
   "outputs": [],
   "source": [
    "np.testing.assert_array_almost_equal(np.linalg.inv(pivots_2) @ low_2 @ up_2, matrix, decimal=12)"
   ]
  },
  {
   "cell_type": "markdown",
   "id": "e767d47f-e2fb-4ed7-a152-e394eca00403",
   "metadata": {},
   "source": [
    "### LU Decomposition with essential pivoting on 100 * 100 matrix"
   ]
  },
  {
   "cell_type": "code",
   "execution_count": 43,
   "id": "82cd9260-e02c-484a-9fc5-6332c018f6cd",
   "metadata": {},
   "outputs": [],
   "source": [
    "decompose_matrix_1, pivots_1 = lu_decomposition(matrix, 1)\n",
    "low_1 = get_lower_triangular(decompose_matrix_1)\n",
    "up_1 = get_upper_triangular(decompose_matrix_1)"
   ]
  },
  {
   "cell_type": "code",
   "execution_count": 44,
   "id": "67948278-7738-4c36-8e82-660a49eb87dc",
   "metadata": {},
   "outputs": [
    {
     "ename": "AssertionError",
     "evalue": "\nArrays are not almost equal to 12 decimals\n\nMismatched elements: 399 / 10000 (3.99%)\nMax absolute difference: 3.6529002e-11\nMax relative difference: 6.63375872e-12\n x: array([[ 2.80507857403 , 10.406954677427,  6.527456729637, ...,\n        10.136042539966, 10.529907636784,  5.768145218635],\n       [ 7.540852544173,  2.229960541116,  5.82352875692 , ...,...\n y: array([[ 2.80507857403 , 10.406954677427,  6.527456729637, ...,\n        10.136042539966, 10.529907636784,  5.768145218635],\n       [ 7.540852544173,  2.229960541116,  5.82352875692 , ...,...",
     "output_type": "error",
     "traceback": [
      "\u001b[0;31m---------------------------------------------------------------------------\u001b[0m",
      "\u001b[0;31mAssertionError\u001b[0m                            Traceback (most recent call last)",
      "Cell \u001b[0;32mIn[44], line 1\u001b[0m\n\u001b[0;32m----> 1\u001b[0m \u001b[43mnp\u001b[49m\u001b[38;5;241;43m.\u001b[39;49m\u001b[43mtesting\u001b[49m\u001b[38;5;241;43m.\u001b[39;49m\u001b[43massert_array_almost_equal\u001b[49m\u001b[43m(\u001b[49m\u001b[43mnp\u001b[49m\u001b[38;5;241;43m.\u001b[39;49m\u001b[43mlinalg\u001b[49m\u001b[38;5;241;43m.\u001b[39;49m\u001b[43minv\u001b[49m\u001b[43m(\u001b[49m\u001b[43mpivots_1\u001b[49m\u001b[43m)\u001b[49m\u001b[43m \u001b[49m\u001b[38;5;241;43m@\u001b[39;49m\u001b[43m \u001b[49m\u001b[43mlow_1\u001b[49m\u001b[43m \u001b[49m\u001b[38;5;241;43m@\u001b[39;49m\u001b[43m \u001b[49m\u001b[43mup_1\u001b[49m\u001b[43m,\u001b[49m\u001b[43m \u001b[49m\u001b[43mmatrix\u001b[49m\u001b[43m,\u001b[49m\u001b[43m \u001b[49m\u001b[43mdecimal\u001b[49m\u001b[38;5;241;43m=\u001b[39;49m\u001b[38;5;241;43m12\u001b[39;49m\u001b[43m)\u001b[49m\n",
      "File \u001b[0;32m/share/apps/Anaconda/anaconda3.8/envs/colab-sharif/lib/python3.11/contextlib.py:81\u001b[0m, in \u001b[0;36mContextDecorator.__call__.<locals>.inner\u001b[0;34m(*args, **kwds)\u001b[0m\n\u001b[1;32m     78\u001b[0m \u001b[38;5;129m@wraps\u001b[39m(func)\n\u001b[1;32m     79\u001b[0m \u001b[38;5;28;01mdef\u001b[39;00m \u001b[38;5;21minner\u001b[39m(\u001b[38;5;241m*\u001b[39margs, \u001b[38;5;241m*\u001b[39m\u001b[38;5;241m*\u001b[39mkwds):\n\u001b[1;32m     80\u001b[0m     \u001b[38;5;28;01mwith\u001b[39;00m \u001b[38;5;28mself\u001b[39m\u001b[38;5;241m.\u001b[39m_recreate_cm():\n\u001b[0;32m---> 81\u001b[0m         \u001b[38;5;28;01mreturn\u001b[39;00m \u001b[43mfunc\u001b[49m\u001b[43m(\u001b[49m\u001b[38;5;241;43m*\u001b[39;49m\u001b[43margs\u001b[49m\u001b[43m,\u001b[49m\u001b[43m \u001b[49m\u001b[38;5;241;43m*\u001b[39;49m\u001b[38;5;241;43m*\u001b[39;49m\u001b[43mkwds\u001b[49m\u001b[43m)\u001b[49m\n",
      "    \u001b[0;31m[... skipping hidden 1 frame]\u001b[0m\n",
      "File \u001b[0;32m/share/apps/Anaconda/anaconda3.8/envs/colab-sharif/lib/python3.11/contextlib.py:81\u001b[0m, in \u001b[0;36mContextDecorator.__call__.<locals>.inner\u001b[0;34m(*args, **kwds)\u001b[0m\n\u001b[1;32m     78\u001b[0m \u001b[38;5;129m@wraps\u001b[39m(func)\n\u001b[1;32m     79\u001b[0m \u001b[38;5;28;01mdef\u001b[39;00m \u001b[38;5;21minner\u001b[39m(\u001b[38;5;241m*\u001b[39margs, \u001b[38;5;241m*\u001b[39m\u001b[38;5;241m*\u001b[39mkwds):\n\u001b[1;32m     80\u001b[0m     \u001b[38;5;28;01mwith\u001b[39;00m \u001b[38;5;28mself\u001b[39m\u001b[38;5;241m.\u001b[39m_recreate_cm():\n\u001b[0;32m---> 81\u001b[0m         \u001b[38;5;28;01mreturn\u001b[39;00m \u001b[43mfunc\u001b[49m\u001b[43m(\u001b[49m\u001b[38;5;241;43m*\u001b[39;49m\u001b[43margs\u001b[49m\u001b[43m,\u001b[49m\u001b[43m \u001b[49m\u001b[38;5;241;43m*\u001b[39;49m\u001b[38;5;241;43m*\u001b[39;49m\u001b[43mkwds\u001b[49m\u001b[43m)\u001b[49m\n",
      "File \u001b[0;32m~/.local/lib/python3.11/site-packages/numpy/testing/_private/utils.py:797\u001b[0m, in \u001b[0;36massert_array_compare\u001b[0;34m(comparison, x, y, err_msg, verbose, header, precision, equal_nan, equal_inf, strict)\u001b[0m\n\u001b[1;32m    793\u001b[0m         err_msg \u001b[38;5;241m+\u001b[39m\u001b[38;5;241m=\u001b[39m \u001b[38;5;124m'\u001b[39m\u001b[38;5;130;01m\\n\u001b[39;00m\u001b[38;5;124m'\u001b[39m \u001b[38;5;241m+\u001b[39m \u001b[38;5;124m'\u001b[39m\u001b[38;5;130;01m\\n\u001b[39;00m\u001b[38;5;124m'\u001b[39m\u001b[38;5;241m.\u001b[39mjoin(remarks)\n\u001b[1;32m    794\u001b[0m         msg \u001b[38;5;241m=\u001b[39m build_err_msg([ox, oy], err_msg,\n\u001b[1;32m    795\u001b[0m                             verbose\u001b[38;5;241m=\u001b[39mverbose, header\u001b[38;5;241m=\u001b[39mheader,\n\u001b[1;32m    796\u001b[0m                             names\u001b[38;5;241m=\u001b[39m(\u001b[38;5;124m'\u001b[39m\u001b[38;5;124mx\u001b[39m\u001b[38;5;124m'\u001b[39m, \u001b[38;5;124m'\u001b[39m\u001b[38;5;124my\u001b[39m\u001b[38;5;124m'\u001b[39m), precision\u001b[38;5;241m=\u001b[39mprecision)\n\u001b[0;32m--> 797\u001b[0m         \u001b[38;5;28;01mraise\u001b[39;00m \u001b[38;5;167;01mAssertionError\u001b[39;00m(msg)\n\u001b[1;32m    798\u001b[0m \u001b[38;5;28;01mexcept\u001b[39;00m \u001b[38;5;167;01mValueError\u001b[39;00m:\n\u001b[1;32m    799\u001b[0m     \u001b[38;5;28;01mimport\u001b[39;00m \u001b[38;5;21;01mtraceback\u001b[39;00m\n",
      "\u001b[0;31mAssertionError\u001b[0m: \nArrays are not almost equal to 12 decimals\n\nMismatched elements: 399 / 10000 (3.99%)\nMax absolute difference: 3.6529002e-11\nMax relative difference: 6.63375872e-12\n x: array([[ 2.80507857403 , 10.406954677427,  6.527456729637, ...,\n        10.136042539966, 10.529907636784,  5.768145218635],\n       [ 7.540852544173,  2.229960541116,  5.82352875692 , ...,...\n y: array([[ 2.80507857403 , 10.406954677427,  6.527456729637, ...,\n        10.136042539966, 10.529907636784,  5.768145218635],\n       [ 7.540852544173,  2.229960541116,  5.82352875692 , ...,..."
     ]
    }
   ],
   "source": [
    "np.testing.assert_array_almost_equal(np.linalg.inv(pivots_1) @ low_1 @ up_1, matrix, decimal=12)"
   ]
  }
 ],
 "metadata": {
  "kernelspec": {
   "display_name": "Python 3 (ipykernel)",
   "language": "python",
   "name": "python3"
  },
  "language_info": {
   "codemirror_mode": {
    "name": "ipython",
    "version": 3
   },
   "file_extension": ".py",
   "mimetype": "text/x-python",
   "name": "python",
   "nbconvert_exporter": "python",
   "pygments_lexer": "ipython3",
   "version": "3.12.2"
  }
 },
 "nbformat": 4,
 "nbformat_minor": 5
}
