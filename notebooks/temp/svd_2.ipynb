{
 "cells": [
  {
   "cell_type": "code",
   "execution_count": 1,
   "id": "95dffe97-ebca-408f-8a93-4641c8a7be49",
   "metadata": {},
   "outputs": [],
   "source": [
    "import numpy as np"
   ]
  },
  {
   "cell_type": "code",
   "execution_count": 2,
   "id": "1170fb4e-0db2-4ff8-bea8-f7ee0a6b51f4",
   "metadata": {},
   "outputs": [
    {
     "data": {
      "text/plain": [
       "array([[ 3,  2,  2],\n",
       "       [ 2,  3, -2]])"
      ]
     },
     "execution_count": 2,
     "metadata": {},
     "output_type": "execute_result"
    }
   ],
   "source": [
    "A = np.array([[3, 2, 2], [2, 3, -2]])\n",
    "A"
   ]
  },
  {
   "cell_type": "code",
   "execution_count": 3,
   "id": "19bc24e9-3e4a-462b-9049-ae5333449f41",
   "metadata": {},
   "outputs": [
    {
     "data": {
      "text/plain": [
       "array([[17,  8],\n",
       "       [ 8, 17]])"
      ]
     },
     "execution_count": 3,
     "metadata": {},
     "output_type": "execute_result"
    }
   ],
   "source": [
    "AAt = A @ A.T\n",
    "AAt"
   ]
  },
  {
   "cell_type": "code",
   "execution_count": 4,
   "id": "5fcdc485-4e84-4179-82b5-1277385f31ca",
   "metadata": {},
   "outputs": [
    {
     "data": {
      "text/plain": [
       "(array([25.,  9.]),\n",
       " array([[ 0.70710678, -0.70710678],\n",
       "        [ 0.70710678,  0.70710678]]))"
      ]
     },
     "execution_count": 4,
     "metadata": {},
     "output_type": "execute_result"
    }
   ],
   "source": [
    "AAt_e_values, AAt_e_vectors = np.linalg.eig(AAt)\n",
    "AAt_e_values, AAt_e_vectors"
   ]
  },
  {
   "cell_type": "code",
   "execution_count": 5,
   "id": "fc8f5401-d15d-458a-8234-ead5c1dd9599",
   "metadata": {},
   "outputs": [
    {
     "data": {
      "text/plain": [
       "array([[13, 12,  2],\n",
       "       [12, 13, -2],\n",
       "       [ 2, -2,  8]])"
      ]
     },
     "execution_count": 5,
     "metadata": {},
     "output_type": "execute_result"
    }
   ],
   "source": [
    "AtA = A.T @ A\n",
    "AtA"
   ]
  },
  {
   "cell_type": "code",
   "execution_count": 6,
   "id": "af2a0f93-4d42-47d0-88ad-91a5691a7168",
   "metadata": {},
   "outputs": [
    {
     "data": {
      "text/plain": [
       "(array([2.5000000e+01, 5.0324328e-15, 9.0000000e+00]),\n",
       " array([[-7.07106781e-01, -6.66666667e-01,  2.35702260e-01],\n",
       "        [-7.07106781e-01,  6.66666667e-01, -2.35702260e-01],\n",
       "        [-4.55680392e-17,  3.33333333e-01,  9.42809042e-01]]))"
      ]
     },
     "execution_count": 6,
     "metadata": {},
     "output_type": "execute_result"
    }
   ],
   "source": [
    "AtA_e_values, AtA_e_vectors = np.linalg.eig(AtA)\n",
    "AtA_e_values, AtA_e_vectors"
   ]
  },
  {
   "cell_type": "code",
   "execution_count": 7,
   "id": "4e798520-41a2-4bd8-9dec-9f987cce66ab",
   "metadata": {},
   "outputs": [
    {
     "data": {
      "text/plain": [
       "array([0, 2, 1])"
      ]
     },
     "execution_count": 7,
     "metadata": {},
     "output_type": "execute_result"
    }
   ],
   "source": [
    "np.round(AtA_e_values)\n",
    "index_sort_AtA_e_values = np.argsort(AtA_e_values)[::-1]\n",
    "index_sort_AtA_e_values"
   ]
  },
  {
   "cell_type": "code",
   "execution_count": 8,
   "id": "1099acc8-f6f7-4f63-9622-5e47fc1a62b1",
   "metadata": {},
   "outputs": [
    {
     "data": {
      "text/plain": [
       "array([5., 3., 0.])"
      ]
     },
     "execution_count": 8,
     "metadata": {},
     "output_type": "execute_result"
    }
   ],
   "source": [
    "s_values = np.sqrt(np.round(AtA_e_values, decimals=12))[index_sort_AtA_e_values]\n",
    "s_values"
   ]
  },
  {
   "cell_type": "code",
   "execution_count": 9,
   "id": "41d0bcf7-a2ce-4ba9-92df-858c2ec05f01",
   "metadata": {},
   "outputs": [
    {
     "data": {
      "text/plain": [
       "array([[-0.70710678,  0.23570226, -0.66666667],\n",
       "       [-0.70710678, -0.23570226,  0.66666667],\n",
       "       [-0.        ,  0.94280904,  0.33333333]])"
      ]
     },
     "execution_count": 9,
     "metadata": {},
     "output_type": "execute_result"
    }
   ],
   "source": [
    "V = np.round(AtA_e_vectors, decimals=12)[:,index_sort_AtA_e_values]\n",
    "V"
   ]
  },
  {
   "cell_type": "code",
   "execution_count": 10,
   "id": "088a4e05-1508-4327-b5e4-21be19b54078",
   "metadata": {},
   "outputs": [
    {
     "data": {
      "text/plain": [
       "(0.23570226039551587, 0.9428090415820635)"
      ]
     },
     "execution_count": 10,
     "metadata": {},
     "output_type": "execute_result"
    }
   ],
   "source": [
    "1 / np.sqrt(18), 4 / np.sqrt(18)"
   ]
  },
  {
   "cell_type": "markdown",
   "id": "c78e678c-e156-4d86-af99-c3c2d9c6ca5c",
   "metadata": {},
   "source": [
    "Now we must compute Vt"
   ]
  },
  {
   "cell_type": "code",
   "execution_count": 11,
   "id": "e69ac913-d1c2-43ee-9dd9-17a42eceb866",
   "metadata": {},
   "outputs": [
    {
     "data": {
      "text/plain": [
       "array([[-0.70710678, -0.70710678, -0.        ],\n",
       "       [ 0.23570226, -0.23570226,  0.94280904],\n",
       "       [-0.66666667,  0.66666667,  0.33333333]])"
      ]
     },
     "execution_count": 11,
     "metadata": {},
     "output_type": "execute_result"
    }
   ],
   "source": [
    "Vt = V.T\n",
    "Vt"
   ]
  },
  {
   "cell_type": "code",
   "execution_count": 12,
   "id": "93b900ed-0fe7-4efd-abfb-eb5e0a85144b",
   "metadata": {},
   "outputs": [
    {
     "data": {
      "text/plain": [
       "array([[-0.70710678,  0.70710678],\n",
       "       [-0.70710678, -0.70710678]])"
      ]
     },
     "execution_count": 12,
     "metadata": {},
     "output_type": "execute_result"
    }
   ],
   "source": [
    "non_zeros_e_values, = np.nonzero(AtA_e_values.round(12))\n",
    "U = np.zeros((non_zeros_e_values.shape[0], non_zeros_e_values.shape[0]), dtype=np.float64)\n",
    "\n",
    "for i in range(non_zeros_e_values.shape[0]):\n",
    "    U[:, i] = 1 / s_values[i] * (A @ V[:, i])\n",
    "U"
   ]
  },
  {
   "cell_type": "code",
   "execution_count": 13,
   "id": "d9e9a8f7-69b3-4407-81f4-cea0ed0161d0",
   "metadata": {},
   "outputs": [
    {
     "data": {
      "text/plain": [
       "array([[5., 0., 0.],\n",
       "       [0., 3., 0.]])"
      ]
     },
     "execution_count": 13,
     "metadata": {},
     "output_type": "execute_result"
    }
   ],
   "source": [
    "sigma = np.zeros((U.shape[1], V.shape[0]))\n",
    "np.fill_diagonal(sigma, s_values)\n",
    "sigma"
   ]
  },
  {
   "cell_type": "code",
   "execution_count": 14,
   "id": "76ae4026-8b88-48f9-80d8-8362104adf73",
   "metadata": {},
   "outputs": [
    {
     "data": {
      "text/plain": [
       "array([[-0.70710678,  0.70710678],\n",
       "       [-0.70710678, -0.70710678]])"
      ]
     },
     "execution_count": 14,
     "metadata": {},
     "output_type": "execute_result"
    }
   ],
   "source": [
    "U"
   ]
  },
  {
   "cell_type": "code",
   "execution_count": 15,
   "id": "2d606348-49f2-484b-aa12-f26a7f2fb819",
   "metadata": {},
   "outputs": [
    {
     "data": {
      "text/plain": [
       "array([[5., 0., 0.],\n",
       "       [0., 3., 0.]])"
      ]
     },
     "execution_count": 15,
     "metadata": {},
     "output_type": "execute_result"
    }
   ],
   "source": [
    "sigma"
   ]
  },
  {
   "cell_type": "code",
   "execution_count": 16,
   "id": "b6f76bfd-0137-4c55-bfee-7a95ce1baa65",
   "metadata": {},
   "outputs": [
    {
     "data": {
      "text/plain": [
       "array([[-0.70710678, -0.70710678, -0.        ],\n",
       "       [ 0.23570226, -0.23570226,  0.94280904],\n",
       "       [-0.66666667,  0.66666667,  0.33333333]])"
      ]
     },
     "execution_count": 16,
     "metadata": {},
     "output_type": "execute_result"
    }
   ],
   "source": [
    "Vt"
   ]
  },
  {
   "cell_type": "code",
   "execution_count": null,
   "id": "3d950a15-42cb-412a-91f1-f7be7433e054",
   "metadata": {},
   "outputs": [],
   "source": []
  }
 ],
 "metadata": {
  "kernelspec": {
   "display_name": "venv",
   "language": "python",
   "name": "venv"
  },
  "language_info": {
   "codemirror_mode": {
    "name": "ipython",
    "version": 3
   },
   "file_extension": ".py",
   "mimetype": "text/x-python",
   "name": "python",
   "nbconvert_exporter": "python",
   "pygments_lexer": "ipython3",
   "version": "3.12.2"
  }
 },
 "nbformat": 4,
 "nbformat_minor": 5
}
