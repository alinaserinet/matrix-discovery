{
 "cells": [
  {
   "cell_type": "code",
   "execution_count": 6,
   "id": "71b7ac64-eec9-415b-a294-0df8a487d417",
   "metadata": {},
   "outputs": [],
   "source": [
    "import os\n",
    "import sys\n",
    "module_path = os.path.abspath(os.path.join('../..'))\n",
    "if module_path not in sys.path:\n",
    "    sys.path.append(module_path)\n",
    "import numpy as np\n",
    "from modules import svd"
   ]
  },
  {
   "cell_type": "code",
   "execution_count": 7,
   "id": "ed58c45e-2c59-4ab9-912a-d8b2edd67253",
   "metadata": {},
   "outputs": [],
   "source": [
    "A = np.array([[3, 2, 2], [2, 3, -2]])"
   ]
  },
  {
   "cell_type": "code",
   "execution_count": 8,
   "id": "669efed8-c300-473a-b9e7-d95a9f7dbcae",
   "metadata": {},
   "outputs": [
    {
     "data": {
      "text/plain": [
       "(array([[-0.70710678,  0.70710678],\n",
       "        [-0.70710678, -0.70710678]]),\n",
       " array([[5., 0., 0.],\n",
       "        [0., 3., 0.]]),\n",
       " array([[-0.70710678, -0.70710678, -0.        ],\n",
       "        [ 0.23570226, -0.23570226,  0.94280904],\n",
       "        [-0.66666667,  0.66666667,  0.33333333]]))"
      ]
     },
     "execution_count": 8,
     "metadata": {},
     "output_type": "execute_result"
    }
   ],
   "source": [
    "L, sigma, U = svd(A)\n",
    "L, sigma, U"
   ]
  },
  {
   "cell_type": "code",
   "execution_count": 20,
   "id": "136396c5-7b2c-42bd-887d-12d9cb8268f0",
   "metadata": {},
   "outputs": [],
   "source": [
    "def maximum_ratio_sv(L: np.ndarray, sigma: np.ndarray, V: np.ndarray, k: int):\n",
    "    dsc_singular_values_index = sigma.diagonal().argsort()[::-1]\n",
    "    max_left_vectors = L[:, dsc_singular_values_index][:, :k]\n",
    "    max_sigma = sigma[:, dsc_singular_values_index][:, :k]\n",
    "    max_right_vectors = U[:, dsc_singular_values_index][:, :k]\n",
    "    return max_left_vectors, max_sigma, max_right_vectors"
   ]
  },
  {
   "cell_type": "code",
   "execution_count": 22,
   "id": "bfd7a490-5f70-4a43-9c5d-bdf3be5295d5",
   "metadata": {},
   "outputs": [
    {
     "data": {
      "text/plain": [
       "(array([[-0.70710678,  0.70710678],\n",
       "        [-0.70710678, -0.70710678]]),\n",
       " array([[5., 0.],\n",
       "        [0., 3.]]),\n",
       " array([[-0.70710678, -0.70710678],\n",
       "        [ 0.23570226, -0.23570226],\n",
       "        [-0.66666667,  0.66666667]]))"
      ]
     },
     "execution_count": 22,
     "metadata": {},
     "output_type": "execute_result"
    }
   ],
   "source": [
    "maximum_ratio_sv(L, sigma, U, 2)"
   ]
  },
  {
   "cell_type": "code",
   "execution_count": null,
   "id": "abc5530f-4619-42fe-bade-9d664b47e69b",
   "metadata": {},
   "outputs": [],
   "source": []
  }
 ],
 "metadata": {
  "kernelspec": {
   "display_name": "Python 3 (ipykernel)",
   "language": "python",
   "name": "python3"
  },
  "language_info": {
   "codemirror_mode": {
    "name": "ipython",
    "version": 3
   },
   "file_extension": ".py",
   "mimetype": "text/x-python",
   "name": "python",
   "nbconvert_exporter": "python",
   "pygments_lexer": "ipython3",
   "version": "3.12.2"
  }
 },
 "nbformat": 4,
 "nbformat_minor": 5
}
