{
 "cells": [
  {
   "cell_type": "code",
   "execution_count": 1,
   "id": "c582db03-da7a-4433-be48-c16841759cd5",
   "metadata": {},
   "outputs": [],
   "source": [
    "import numpy as np"
   ]
  },
  {
   "cell_type": "code",
   "execution_count": 10,
   "id": "8f42976f-ae04-46fb-b219-2d1cf9e65a19",
   "metadata": {},
   "outputs": [],
   "source": [
    "A = np.array([[3, 0], [4, 5]])"
   ]
  },
  {
   "cell_type": "code",
   "execution_count": 11,
   "id": "31f39fb3-44bc-4da6-8feb-b6edab320a54",
   "metadata": {},
   "outputs": [
    {
     "data": {
      "text/plain": [
       "array([[3, 0],\n",
       "       [4, 5]])"
      ]
     },
     "execution_count": 11,
     "metadata": {},
     "output_type": "execute_result"
    }
   ],
   "source": [
    "A"
   ]
  },
  {
   "cell_type": "code",
   "execution_count": 13,
   "id": "1b73d4c0-1c3e-4f95-b825-f6fd82d2a9cc",
   "metadata": {},
   "outputs": [
    {
     "data": {
      "text/plain": [
       "array([[25, 20],\n",
       "       [20, 25]])"
      ]
     },
     "execution_count": 13,
     "metadata": {},
     "output_type": "execute_result"
    }
   ],
   "source": [
    "S = A.T @ A\n",
    "S"
   ]
  },
  {
   "cell_type": "code",
   "execution_count": 15,
   "id": "3b8f7140-befc-4f3c-a326-dcc04e863f58",
   "metadata": {},
   "outputs": [
    {
     "data": {
      "text/plain": [
       "(array([45.,  5.]),\n",
       " array([[ 0.70710678, -0.70710678],\n",
       "        [ 0.70710678,  0.70710678]]))"
      ]
     },
     "execution_count": 15,
     "metadata": {},
     "output_type": "execute_result"
    }
   ],
   "source": [
    "e_values, e_vectors = np.linalg.eig(S)\n",
    "e_values, e_vectors"
   ]
  },
  {
   "cell_type": "code",
   "execution_count": 18,
   "id": "fd02f254-9ece-4fa9-b218-f6e256f2712b",
   "metadata": {},
   "outputs": [
    {
     "data": {
      "text/plain": [
       "array([6.70820393, 2.23606798])"
      ]
     },
     "execution_count": 18,
     "metadata": {},
     "output_type": "execute_result"
    }
   ],
   "source": [
    "s_values = np.sqrt(np.round(np.abs(e_values), 15))\n",
    "s_values"
   ]
  },
  {
   "cell_type": "code",
   "execution_count": 21,
   "id": "0e6ef5cb-01a9-45f3-aa68-9313d6020039",
   "metadata": {},
   "outputs": [
    {
     "data": {
      "text/plain": [
       "(6.708203932499369, 2.23606797749979)"
      ]
     },
     "execution_count": 21,
     "metadata": {},
     "output_type": "execute_result"
    }
   ],
   "source": [
    "np.sqrt(45), np.sqrt(5)"
   ]
  },
  {
   "cell_type": "code",
   "execution_count": 23,
   "id": "50566508-fb86-4968-b3cd-21e89de4cef3",
   "metadata": {},
   "outputs": [
    {
     "data": {
      "text/plain": [
       "array([6.70820393, 2.23606798])"
      ]
     },
     "execution_count": 23,
     "metadata": {},
     "output_type": "execute_result"
    }
   ],
   "source": [
    "non_zeros_s_values = s_values[s_values != 0]\n",
    "non_zeros_s_values"
   ]
  },
  {
   "cell_type": "code",
   "execution_count": 25,
   "id": "78aa5690-a203-4d2d-89e9-3882bd8260b2",
   "metadata": {},
   "outputs": [
    {
     "data": {
      "text/plain": [
       "array([[ 0.70710678, -0.70710678],\n",
       "       [ 0.70710678,  0.70710678]])"
      ]
     },
     "execution_count": 25,
     "metadata": {},
     "output_type": "execute_result"
    }
   ],
   "source": [
    "r_s_vector = e_vectors\n",
    "r_s_vector"
   ]
  },
  {
   "cell_type": "code",
   "execution_count": 26,
   "id": "d5a5a88f-7812-4e28-9cdb-5709c69de6a9",
   "metadata": {},
   "outputs": [
    {
     "data": {
      "text/plain": [
       "0.7071067811865475"
      ]
     },
     "execution_count": 26,
     "metadata": {},
     "output_type": "execute_result"
    }
   ],
   "source": [
    "1 / np.sqrt(2)"
   ]
  },
  {
   "cell_type": "code",
   "execution_count": 32,
   "id": "458856bd-a0cb-4384-b104-146ac4a1f7fe",
   "metadata": {},
   "outputs": [],
   "source": [
    "l_s_vector = np.zeros((r_s_vector.shape[1], s_values.shape[0]), dtype=np.float64)\n",
    "\n",
    "for i in range(s_values.shape[0]):\n",
    "    l_s_vector[:, i] = 1 / s_values[i] * (A @ r_s_vector[:, i])"
   ]
  },
  {
   "cell_type": "code",
   "execution_count": 35,
   "id": "78e825fe-91a1-4af1-8480-e41b2f274279",
   "metadata": {},
   "outputs": [
    {
     "data": {
      "text/plain": [
       "array([[ 0.31622777, -0.9486833 ],\n",
       "       [ 0.9486833 ,  0.31622777]])"
      ]
     },
     "execution_count": 35,
     "metadata": {},
     "output_type": "execute_result"
    }
   ],
   "source": [
    "l_s_vector"
   ]
  },
  {
   "cell_type": "code",
   "execution_count": null,
   "id": "c984760f-8a01-46c2-9f6a-58be3c20f3c3",
   "metadata": {},
   "outputs": [],
   "source": []
  }
 ],
 "metadata": {
  "kernelspec": {
   "display_name": "Python 3 (ipykernel)",
   "language": "python",
   "name": "python3"
  },
  "language_info": {
   "codemirror_mode": {
    "name": "ipython",
    "version": 3
   },
   "file_extension": ".py",
   "mimetype": "text/x-python",
   "name": "python",
   "nbconvert_exporter": "python",
   "pygments_lexer": "ipython3",
   "version": "3.12.2"
  }
 },
 "nbformat": 4,
 "nbformat_minor": 5
}
